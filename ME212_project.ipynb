{
  "nbformat": 4,
  "nbformat_minor": 0,
  "metadata": {
    "colab": {
      "name": "ME212_project.ipynb",
      "provenance": [],
      "authorship_tag": "ABX9TyP0CgUFtJTqfWtbNrwtQ6Cv",
      "include_colab_link": true
    },
    "kernelspec": {
      "name": "python3",
      "display_name": "Python 3"
    },
    "language_info": {
      "name": "python"
    }
  },
  "cells": [
    {
      "cell_type": "markdown",
      "metadata": {
        "id": "view-in-github",
        "colab_type": "text"
      },
      "source": [
        "<a href=\"https://colab.research.google.com/github/adarsh2350/ME212_Project/blob/main/ME212_project.ipynb\" target=\"_parent\"><img src=\"https://colab.research.google.com/assets/colab-badge.svg\" alt=\"Open In Colab\"/></a>"
      ]
    },
    {
      "cell_type": "markdown",
      "metadata": {
        "id": "J-SIsdeLlKqU"
      },
      "source": [
        "#**Plotting of BMD(Bending Moment Diagram) and SFD(Shear Force Diagram)**"
      ]
    },
    {
      "cell_type": "markdown",
      "metadata": {
        "id": "TCsk8CMPmRRj"
      },
      "source": [
        "##**Importing Libraries**"
      ]
    },
    {
      "cell_type": "code",
      "metadata": {
        "id": "aHLUrUuGmXGl"
      },
      "source": [
        "import numpy as np\n",
        "import matplotlib.pyplot as plt"
      ],
      "execution_count": 1,
      "outputs": []
    },
    {
      "cell_type": "markdown",
      "metadata": {
        "id": "JXDs8Kw8l55T"
      },
      "source": [
        "###Taking **Inputs** from the user"
      ]
    },
    {
      "cell_type": "code",
      "metadata": {
        "colab": {
          "base_uri": "https://localhost:8080/"
        },
        "id": "iMTw3HLnlgYZ",
        "outputId": "d8143501-45f3-42f3-eccc-4906d93f9bcb"
      },
      "source": [
        "P=int(input(\"Enter the value of the load acting on the beam in N(in newton) : \"))\n",
        "L=int(input(\"Enter the length of the beam(in m) : \"))\n",
        "a=int(input(\"Enter the distance at which load is acting(in m) : \"))"
      ],
      "execution_count": 2,
      "outputs": [
        {
          "name": "stdout",
          "output_type": "stream",
          "text": [
            "Enter the value of the load acting on the beam in N(in newton) : 20\n",
            "Enter the length of the beam(in m) : 4\n",
            "Enter the distance at which load is acting(in m) : 2\n"
          ]
        }
      ]
    },
    {
      "cell_type": "markdown",
      "metadata": {
        "id": "99zYarYhol1C"
      },
      "source": [
        "###Calculating the value of **R1** and **R2**"
      ]
    },
    {
      "cell_type": "code",
      "metadata": {
        "colab": {
          "base_uri": "https://localhost:8080/"
        },
        "id": "zP755ZdNoxNu",
        "outputId": "3eee8636-aacb-481c-d5a8-e4c481324587"
      },
      "source": [
        "R1=(P*(L-a))/L\n",
        "R2=(P*a)/L\n",
        "print(\"R1 =\",R1,\"N\")\n",
        "print(\"R2 =\",R2,\"N\")"
      ],
      "execution_count": 3,
      "outputs": [
        {
          "output_type": "stream",
          "name": "stdout",
          "text": [
            "R1 = 10.0 N\n",
            "R2 = 10.0 N\n"
          ]
        }
      ]
    },
    {
      "cell_type": "markdown",
      "metadata": {
        "id": "bbbiuiABru5y"
      },
      "source": [
        "##**Plotting of Graph**"
      ]
    },
    {
      "cell_type": "code",
      "metadata": {
        "id": "UBAJS_tGsuBE"
      },
      "source": [
        "l=np.linspace(0,L,1000) "
      ],
      "execution_count": 4,
      "outputs": []
    },
    {
      "cell_type": "code",
      "metadata": {
        "id": "fUR50rMIsvR1"
      },
      "source": [
        "X=[]\n",
        "SF=[]\n",
        "BM=[]"
      ],
      "execution_count": 5,
      "outputs": []
    },
    {
      "cell_type": "markdown",
      "metadata": {
        "id": "YXRTvl1lurkm"
      },
      "source": [
        "###Specifying conditions to plot Graph"
      ]
    },
    {
      "cell_type": "code",
      "metadata": {
        "id": "lhnzyU3rs226"
      },
      "source": [
        "for x in l:\n",
        "  if x <= a:\n",
        "    m = R1*x\n",
        "    sf = R1\n",
        "  elif x > a:\n",
        "    m=(R1*x)-(P*(x-a))\n",
        "    sf = R1-P\n",
        "  BM.append(m)\n",
        "  X.append(x)\n",
        "  SF.append(sf)"
      ],
      "execution_count": 6,
      "outputs": []
    },
    {
      "cell_type": "markdown",
      "metadata": {
        "id": "eMN33Q0xtzqu"
      },
      "source": [
        "##**BMD**"
      ]
    },
    {
      "cell_type": "code",
      "metadata": {
        "colab": {
          "base_uri": "https://localhost:8080/",
          "height": 177
        },
        "id": "9iPk0uVLs4mg",
        "outputId": "2d22ed15-0170-435f-ad14-0e26ac26846a"
      },
      "source": [
        "plt.subplot(2,1,1)\n",
        "plt.plot(X,BM,color='b')\n",
        "plt.plot([0,L],[0,0],color='r')\n",
        "plt.title(\"BMD(Bending Moment Diagram)\")\n",
        "plt.xlabel(\"Length in m ->\")\n",
        "plt.ylabel(\"Bending Moment in Nm\")\n",
        "plt.show()"
      ],
      "execution_count": 7,
      "outputs": [
        {
          "output_type": "display_data",
          "data": {
            "image/png": "[encoded data removed]",
            "text/plain": [
              "<Figure size 432x288 with 1 Axes>"
            ]
          },
          "metadata": {
            "needs_background": "light"
          }
        }
      ]
    },
    {
      "cell_type": "markdown",
      "metadata": {
        "id": "450GaMY0t8ZW"
      },
      "source": [
        "##**SFD**"
      ]
    },
    {
      "cell_type": "code",
      "metadata": {
        "colab": {
          "base_uri": "https://localhost:8080/",
          "height": 177
        },
        "id": "agWyHD5XtCFC",
        "outputId": "268b2e33-87f0-48c1-f042-06d163eb85aa"
      },
      "source": [
        "plt.subplot(2,1,2)\n",
        "plt.plot(X,SF,color='b')\n",
        "plt.plot([0,L],[0,0],color='r')\n",
        "plt.plot([0,0],[0,R1],[L,L],[0,-R2], color='r')\n",
        "plt.title(\"Shear Force Diagram\")\n",
        "plt.xlabel(\"Length in m ->\")\n",
        "plt.ylabel(\"Shear Force in N\")\n",
        "plt.show()"
      ],
      "execution_count": 8,
      "outputs": [
        {
          "output_type": "display_data",
          "data": {
            "image/png": "[encoded data removed]",
            "text/plain": [
              "<Figure size 432x288 with 1 Axes>"
            ]
          },
          "metadata": {
            "needs_background": "light"
          }
        }
      ]
    }
  ]
}